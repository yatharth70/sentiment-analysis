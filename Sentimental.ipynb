{
  "nbformat": 4,
  "nbformat_minor": 0,
  "metadata": {
    "colab": {
      "provenance": []
    },
    "kernelspec": {
      "name": "python3",
      "display_name": "Python 3"
    },
    "language_info": {
      "name": "python"
    }
  },
  "cells": [
    {
      "cell_type": "code",
      "source": [
        "from nltk.sentiment import SentimentIntensityAnalyzer\n",
        "import nltk\n",
        "nltk.download('vader_lexicon')\n",
        "sia=SentimentIntensityAnalyzer()\n",
        "def analyze_comment(comment):\n",
        "  sentiment_scores=sia.polarity_scores(comment)\n",
        "  words=comment.split()\n",
        "  word_scores={word: sia.polarity_scores(word)['compound'] for word in words}\n",
        "  if sentiment_scores['compound']>0.05:\n",
        "    overall_sentiment=\"Positive\"\n",
        "  elif sentiment_scores['compound']<-0.05:\n",
        "    overall_sentiment=\"Negative\"\n",
        "  else:\n",
        "    overall_sentiment=\"Neutral\"\n",
        "\n",
        "  return sentiment_scores, word_scores, overall_sentiment\n",
        "comment=input(\"Enter your statement: \")\n",
        "sentiment_scores, word_scores, overall_sentiment= analyze_comment(comment)\n",
        "print(\"\\noverall Sentiments\", overall_sentiment)\n",
        "print(\"\\nSentiment Score\", sentiment_scores)\n",
        "print(\"\\nWords Score\", word_scores)\n",
        "for word, score in word_scores.items():\n",
        "  print(f\"{word}:{score:.2f}\")\n",
        "\n",
        "\n"
      ],
      "metadata": {
        "colab": {
          "base_uri": "https://localhost:8080/"
        },
        "id": "FHDX7E3jkUcF",
        "outputId": "75921445-576e-41aa-89df-ab96dac6f0c5"
      },
      "execution_count": 17,
      "outputs": [
        {
          "output_type": "stream",
          "name": "stderr",
          "text": [
            "[nltk_data] Downloading package vader_lexicon to /root/nltk_data...\n",
            "[nltk_data]   Package vader_lexicon is already up-to-date!\n"
          ]
        },
        {
          "output_type": "stream",
          "name": "stdout",
          "text": [
            "Enter your statement: okay i got it\n",
            "\n",
            "overall Sentiments Positive\n",
            "\n",
            "Sentiment Score {'neg': 0.0, 'neu': 0.513, 'pos': 0.487, 'compound': 0.2263}\n",
            "\n",
            "Words Score {'okay': 0.2263, 'i': 0.0, 'got': 0.0, 'it': 0.0}\n",
            "okay:0.23\n",
            "i:0.00\n",
            "got:0.00\n",
            "it:0.00\n"
          ]
        }
      ]
    }
  ]
}