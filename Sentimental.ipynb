{
  "nbformat": 4,
  "nbformat_minor": 0,
  "metadata": {
    "colab": {
      "provenance": []
    },
    "kernelspec": {
      "name": "python3",
      "display_name": "Python 3"
    },
    "language_info": {
      "name": "python"
    }
  },
  "cells": [
    {
      "cell_type": "code",
      "execution_count": 4,
      "metadata": {
        "id": "Np4xStegh73v",
        "colab": {
          "base_uri": "https://localhost:8080/"
        },
        "outputId": "a784f3ab-d9b1-4b06-c1cd-bb92b5d6f045"
      },
      "outputs": [
        {
          "output_type": "stream",
          "name": "stderr",
          "text": [
            "[nltk_data] Error loading vadar_lexicon: Package 'vadar_lexicon' not\n",
            "[nltk_data]     found in index\n"
          ]
        },
        {
          "output_type": "execute_result",
          "data": {
            "text/plain": [
              "False"
            ]
          },
          "metadata": {},
          "execution_count": 4
        }
      ],
      "source": [
        "from nltk.sentiment import SentimentIntensityAnalyzer\n",
        "import nltk\n",
        "nltk.download('vadar_lexicon')"
      ]
    },
    {
      "cell_type": "code",
      "source": [
        "from nltk.sentiment import SentimentIntensityAnalyzer  '''nltk ka matlab hota hai natural language processing tool kit ye ek library hoti hai\n",
        "                                                          jisse sentimantal analysis hota hai'''\n",
        "import nltk\n",
        "nltk.download('vader_lexicon')                         '''Vader ek lexicon or ek rule-based sentiment analysis tool hota hai\n",
        "                                                          jo ki specifically designed to recognize sentiment in text.'''\n",
        "sia=SentimentIntensityAnalyzer()                       '''yhan pr hmne sia m initialize krdia jisse uska ek instance bnnjaye taki ham\n",
        "                                                          use krrpayen'''\n",
        "def analyze_comment(comment):\n",
        "  sentiment_scores=sia.polarity_scores(comment)\n",
        "  words=comment.split()\n",
        "  word_scores={word: sia.polarity_scores(word)['compound'] for word in words}\n",
        "  if sentiment_scores['compound']>0.05:\n",
        "    overall_sentiment=\"Positive\"\n",
        "  elif sentiment_scores['compound']<-0.05:\n",
        "    overall_sentiment=\"Negative\"\n",
        "  else:\n",
        "    overall_sentiment=\"Neutral\"\n",
        "\n",
        "  return sentiment_scores, word_scores, overall_sentiment\n",
        "comment=input(\"Enter your statement: \")\n",
        "sentiment_scores, word_scores, overall_sentiment= analyze_comment(comment)\n",
        "print(\"\\noverall Sentiments\", overall_sentiment)\n",
        "print(\"\\nSentiment Score\", sentiment_scores)\n",
        "print(\"\\nWords Score\", word_scores)\n",
        "for word, score in word_scores.items():\n",
        "  print(f\"{word}:{score:.2f}\")\n",
        "\n",
        "\n"
      ],
      "metadata": {
        "colab": {
          "base_uri": "https://localhost:8080/"
        },
        "id": "FHDX7E3jkUcF",
        "outputId": "d19d85bd-4e21-4937-8715-c7114ec12c3f"
      },
      "execution_count": 11,
      "outputs": [
        {
          "output_type": "stream",
          "name": "stderr",
          "text": [
            "[nltk_data] Downloading package vader_lexicon to /root/nltk_data...\n",
            "[nltk_data]   Package vader_lexicon is already up-to-date!\n"
          ]
        },
        {
          "output_type": "stream",
          "name": "stdout",
          "text": [
            "Enter your statement: i am sad but i am confused that i am happy\n",
            "\n",
            "overall Sentiments Positive\n",
            "\n",
            "Sentiment Score {'neg': 0.332, 'neu': 0.332, 'pos': 0.336, 'compound': 0.2617}\n",
            "\n",
            "Words Score {'i': 0.0, 'am': 0.0, 'sad': -0.4767, 'but': 0.0, 'confused': -0.3182, 'that': 0.0, 'happy': 0.5719}\n",
            "i:0.00\n",
            "am:0.00\n",
            "sad:-0.48\n",
            "but:0.00\n",
            "confused:-0.32\n",
            "that:0.00\n",
            "happy:0.57\n"
          ]
        }
      ]
    }
  ]
}